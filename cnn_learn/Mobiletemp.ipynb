{
 "cells": [
  {
   "cell_type": "code",
   "execution_count": null,
   "id": "8acfbd50",
   "metadata": {},
   "outputs": [],
   "source": [
    "import tensorflow as tf \n",
    "import cv2\n",
    "import os \n",
    "import matplotlib.pyplot as plt\n",
    "import numpy as np\n",
    "import pandas as pd\n",
    "from tensorflow.keras.utils import to_categorical\n"
   ]
  },
  {
   "cell_type": "code",
   "execution_count": null,
   "id": "79e26261",
   "metadata": {},
   "outputs": [],
   "source": [
    "train_dir=r\"F:\\it18021\\archive\\train/\"\n",
    "labelEm={'angry':0,'disgust':1,'fear':2,'happy':3,'neutral':4,'sad':5,'surprise':6}\n",
    "classes=['0','1','2','3','4','5','6']"
   ]
  },
  {
   "cell_type": "code",
   "execution_count": null,
   "id": "ba2b5856",
   "metadata": {},
   "outputs": [],
   "source": [
    "training_data=[]\n",
    "def create_trainingData():\n",
    "    for category in classes :\n",
    "        path = os.path.join(train_dir,category)\n",
    "        class_num = classes.index(category)\n",
    "        for img in os.listdir(path):\n",
    "            try: \n",
    "                img_array= cv2.imread(os.path.join(path,img))\n",
    "                new_array= cv2.resize(img_array,(img_size,img_size))\n",
    "                training_data.append([new_array,class_num])\n",
    "            except Exception as e:\n",
    "                pass\n",
    "            "
   ]
  },
  {
   "cell_type": "code",
   "execution_count": null,
   "id": "53679031",
   "metadata": {},
   "outputs": [],
   "source": [
    "create_trainingData()\n",
    "print(len(training_data))"
   ]
  },
  {
   "cell_type": "code",
   "execution_count": null,
   "id": "4689ce34",
   "metadata": {},
   "outputs": [],
   "source": [
    "import random \n",
    "random.shuffle(training_data)"
   ]
  },
  {
   "cell_type": "code",
   "execution_count": null,
   "id": "ea57f077",
   "metadata": {},
   "outputs": [],
   "source": [
    "img_size=224 \n",
    "X=[] #feature \n",
    "y=[] #label emotion \n",
    "for features,label in training_data:\n",
    "    X.append(features)\n",
    "    y.append(label)\n",
    "X=np.array(X).reshape(-1,img_size,img_size,3)"
   ]
  },
  {
   "cell_type": "code",
   "execution_count": null,
   "id": "ebf78131",
   "metadata": {},
   "outputs": [],
   "source": [
    "X.shape"
   ]
  },
  {
   "cell_type": "code",
   "execution_count": null,
   "id": "25b9b393",
   "metadata": {},
   "outputs": [],
   "source": [
    "X=X/255.0 #rescaling "
   ]
  },
  {
   "cell_type": "code",
   "execution_count": null,
   "id": "cbc8ae70",
   "metadata": {},
   "outputs": [],
   "source": [
    "y=np.array(y)"
   ]
  },
  {
   "cell_type": "code",
   "execution_count": null,
   "id": "67aa58c8",
   "metadata": {},
   "outputs": [],
   "source": [
    "#testing data generate \n",
    "test_dir=r\"F:\\it18021\\archive\\test/\"\n",
    "labelEm={'angry':0,'disgust':1,'fear':2,'happy':3,'neutral':4,'sad':5,'surprise':6}\n",
    "classes=['0','1','2','3','4','5','6']"
   ]
  }
 ],
 "metadata": {
  "kernelspec": {
   "display_name": "Python 3 (ipykernel)",
   "language": "python",
   "name": "python3"
  },
  "language_info": {
   "codemirror_mode": {
    "name": "ipython",
    "version": 3
   },
   "file_extension": ".py",
   "mimetype": "text/x-python",
   "name": "python",
   "nbconvert_exporter": "python",
   "pygments_lexer": "ipython3",
   "version": "3.8.16"
  }
 },
 "nbformat": 4,
 "nbformat_minor": 5
}
