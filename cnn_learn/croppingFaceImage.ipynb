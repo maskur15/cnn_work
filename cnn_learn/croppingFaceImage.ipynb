{
 "cells": [
  {
   "cell_type": "code",
   "execution_count": 20,
   "id": "43ed4506",
   "metadata": {},
   "outputs": [],
   "source": [
    "import os \n",
    "import cv2\n",
    "dir_path = r'F:\\it18021\\archive\\python\\photos\\disgust\\img'\n",
    "save_inDir=r'F:\\it18021\\disgust_face'\n",
    "img_list=([ (os.path.join(dir_path,img)) for img in os.listdir(dir_path) ])\n",
    "face_cascade = cv2.CascadeClassifier('haarcascade_frontalface_default.xml')\n",
    "num=0\n",
    "for img in img_list:\n",
    "    num+=1\n",
    "    img=cv2.imread(img)\n",
    "  #  plt.imshow(img)\n",
    "    gray = cv2.cvtColor(img,cv2.COLOR_BGR2GRAY)\n",
    "\n",
    "    # Detect faces\n",
    "    faces = face_cascade.detectMultiScale(gray, 1.1, 4)\n",
    "\n",
    "    for (x, y, w, h) in faces:\n",
    "        #cv2.rectangle(img, (x, y), (x+w, y+h), (0, 0, 255), 2)\n",
    "\n",
    "        faces = img[y:y + h, x:x + w]\n",
    "        #cv2.imshow(\"face\",faces)\n",
    "        cv2.imwrite(os.path.join(save_inDir,('disgust'+str(num)+'.jpg')), faces)\n",
    "\n",
    "\n"
   ]
  },
  {
   "cell_type": "code",
   "execution_count": null,
   "id": "97d4e21f",
   "metadata": {},
   "outputs": [],
   "source": []
  }
 ],
 "metadata": {
  "kernelspec": {
   "display_name": "Python 3 (ipykernel)",
   "language": "python",
   "name": "python3"
  },
  "language_info": {
   "codemirror_mode": {
    "name": "ipython",
    "version": 3
   },
   "file_extension": ".py",
   "mimetype": "text/x-python",
   "name": "python",
   "nbconvert_exporter": "python",
   "pygments_lexer": "ipython3",
   "version": "3.8.16"
  }
 },
 "nbformat": 4,
 "nbformat_minor": 5
}
