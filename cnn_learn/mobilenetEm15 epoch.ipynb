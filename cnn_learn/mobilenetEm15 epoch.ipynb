{
 "cells": [
  {
   "cell_type": "code",
   "execution_count": 17,
   "id": "33d13570",
   "metadata": {},
   "outputs": [],
   "source": [
    "import tensorflow as tf \n",
    "import cv2\n",
    "import os \n",
    "import matplotlib.pyplot as plt\n",
    "import numpy as np\n",
    "import pandas as pd\n",
    "from tensorflow.keras.utils import to_categorical\n"
   ]
  },
  {
   "cell_type": "code",
   "execution_count": 18,
   "id": "3712adbb",
   "metadata": {},
   "outputs": [],
   "source": [
    "train_dir=r\"F:\\it18021\\archive\\train/\"\n",
    "labelEm={'angry':0,'disgust':1,'fear':2,'happy':3,'neutral':4,'sad':5,'surprise':6}\n",
    "classes=['0','1','2','3','4','5','6']"
   ]
  },
  {
   "cell_type": "code",
   "execution_count": 25,
   "id": "85de2cdd",
   "metadata": {},
   "outputs": [
    {
     "data": {
      "image/png": "[encoded data removed]",
      "text/plain": [
       "<Figure size 640x480 with 1 Axes>"
      ]
     },
     "metadata": {},
     "output_type": "display_data"
    }
   ],
   "source": [
    "for category in classes:\n",
    "    \n",
    "    path= os.path.join(train_dir,category)\n",
    "    for img in os.listdir(path):\n",
    "        img_arr=cv2.imread(os.path.join(path,img))\n",
    "        plt.imshow(cv2.cvtColor(img_arr,cv2.COLOR_BGR2RGB))\n",
    "        plt.show()\n",
    "        \n",
    "        break\n",
    "    break"
   ]
  },
  {
   "cell_type": "code",
   "execution_count": 26,
   "id": "7991d648",
   "metadata": {},
   "outputs": [
    {
     "data": {
      "text/plain": [
       "(48, 48, 3)"
      ]
     },
     "execution_count": 26,
     "metadata": {},
     "output_type": "execute_result"
    }
   ],
   "source": [
    "img_arr.shape"
   ]
  },
  {
   "cell_type": "code",
   "execution_count": 31,
   "id": "55e3cf00",
   "metadata": {},
   "outputs": [],
   "source": [
    "training_data=[]\n",
    "def create_trainingData():\n",
    "    for category in classes :\n",
    "        path = os.path.join(train_dir,category)\n",
    "        class_num = classes.index(category)\n",
    "        for img in os.listdir(path):\n",
    "            break\n",
    "            try: \n",
    "                img_array= cv2.imread(os.path.join(path,img))\n",
    "                new_array= cv2.resize(img_array,(img_size,img_size))\n",
    "                training_data.append([new_array,class_num])\n",
    "            except Exception as e:\n",
    "                pass\n",
    "            "
   ]
  },
  {
   "cell_type": "code",
   "execution_count": 28,
   "id": "1465bd1e",
   "metadata": {},
   "outputs": [],
   "source": [
    "create_trainingData()"
   ]
  },
  {
   "cell_type": "code",
   "execution_count": 29,
   "id": "d576d726",
   "metadata": {},
   "outputs": [
    {
     "name": "stdout",
     "output_type": "stream",
     "text": [
      "0\n"
     ]
    }
   ],
   "source": [
    "print(len(training_data))"
   ]
  },
  {
   "cell_type": "code",
   "execution_count": null,
   "id": "27e434cc",
   "metadata": {},
   "outputs": [],
   "source": [
    "import random \n",
    "random.shuffle(training_data)"
   ]
  },
  {
   "cell_type": "code",
   "execution_count": null,
   "id": "6fe512e0",
   "metadata": {},
   "outputs": [],
   "source": [
    "img_size=224 \n",
    "X=[] #feature \n",
    "y=[] #label emotion \n",
    "for features,label in training_data:\n",
    "    X.append(features)\n",
    "    y.append(label)\n",
    "X=np.array(X).reshape(-1,img_size,img_size,3)"
   ]
  },
  {
   "cell_type": "code",
   "execution_count": null,
   "id": "15626dbc",
   "metadata": {},
   "outputs": [],
   "source": [
    "X.shape"
   ]
  },
  {
   "cell_type": "code",
   "execution_count": null,
   "id": "17627f88",
   "metadata": {},
   "outputs": [],
   "source": [
    "X[0].shape"
   ]
  },
  {
   "cell_type": "code",
   "execution_count": null,
   "id": "2d71cbf5",
   "metadata": {},
   "outputs": [],
   "source": [
    "X=X/255.0 #rescaling "
   ]
  },
  {
   "cell_type": "code",
   "execution_count": null,
   "id": "f230973d",
   "metadata": {},
   "outputs": [],
   "source": [
    "y=np.array(y)"
   ]
  },
  {
   "cell_type": "code",
   "execution_count": null,
   "id": "4ad43fbd",
   "metadata": {},
   "outputs": [],
   "source": [
    "#testing data generate \n",
    "test_dir=r\"F:\\it18021\\archive\\test/\"\n",
    "labelEm={'angry':0,'disgust':1,'fear':2,'happy':3,'neutral':4,'sad':5,'surprise':6}\n",
    "classes=['0','1','2','3','4','5','6']"
   ]
  },
  {
   "cell_type": "code",
   "execution_count": null,
   "id": "2dea852f",
   "metadata": {},
   "outputs": [],
   "source": [
    "test_data=[]\n",
    "def create_testData():\n",
    "    for category in classes :\n",
    "        path = os.path.join(test_dir,category)\n",
    "        class_num = classes.index(category)\n",
    "        for img in os.listdir(path):\n",
    "            try: \n",
    "                img_array= cv2.imread(os.path.join(path,img))\n",
    "                new_array= cv2.resize(img_array,(img_size,img_size))\n",
    "                test_data.append([new_array,class_num])\n",
    "            except Exception as e:\n",
    "                pass\n",
    "            "
   ]
  },
  {
   "cell_type": "code",
   "execution_count": null,
   "id": "fda96f3e",
   "metadata": {},
   "outputs": [],
   "source": [
    "create_testData()"
   ]
  },
  {
   "cell_type": "code",
   "execution_count": null,
   "id": "81cdaed3",
   "metadata": {},
   "outputs": [],
   "source": [
    "import random \n",
    "random.shuffle(test_data)\n",
    "X_test=[] #feature \n",
    "y_test=[] #label emotion \n",
    "for features,label in test_data:\n",
    "    X_test.append(features)\n",
    "    y_test.append(label)\n",
    "X_test=np.array(X_test).reshape(-1,img_size,img_size,3)"
   ]
  },
  {
   "cell_type": "code",
   "execution_count": null,
   "id": "634ae000",
   "metadata": {},
   "outputs": [],
   "source": [
    "X_test=X_test/255.0 #rescaling "
   ]
  },
  {
   "cell_type": "code",
   "execution_count": null,
   "id": "7b7be1e2",
   "metadata": {},
   "outputs": [],
   "source": [
    "y_test=np.array(y_test)"
   ]
  },
  {
   "cell_type": "code",
   "execution_count": null,
   "id": "9e9ba983",
   "metadata": {},
   "outputs": [],
   "source": [
    "#defining the model \n",
    "#transfer learning \n",
    "import tensorflow as tf\n",
    "from tensorflow import keras\n",
    "from tensorflow.keras import layers"
   ]
  },
  {
   "cell_type": "code",
   "execution_count": null,
   "id": "8994b167",
   "metadata": {},
   "outputs": [],
   "source": [
    "#defing the model \n",
    "model= tf.keras.applications.MobileNetV2() "
   ]
  },
  {
   "cell_type": "code",
   "execution_count": null,
   "id": "4a33bcbb",
   "metadata": {
    "scrolled": true
   },
   "outputs": [],
   "source": [
    "model.summary()"
   ]
  },
  {
   "cell_type": "code",
   "execution_count": null,
   "id": "b0bf71e8",
   "metadata": {},
   "outputs": [],
   "source": [
    "model.trainable=False # freezing the layer "
   ]
  },
  {
   "cell_type": "code",
   "execution_count": null,
   "id": "d537baa6",
   "metadata": {},
   "outputs": [],
   "source": [
    "model.summary()"
   ]
  },
  {
   "cell_type": "code",
   "execution_count": null,
   "id": "d290e77e",
   "metadata": {},
   "outputs": [],
   "source": [
    "base_input= model.layers[0].input"
   ]
  },
  {
   "cell_type": "code",
   "execution_count": null,
   "id": "0f15810f",
   "metadata": {},
   "outputs": [],
   "source": [
    "base_output=model.layers[-2].output"
   ]
  },
  {
   "cell_type": "code",
   "execution_count": null,
   "id": "849d8261",
   "metadata": {},
   "outputs": [],
   "source": [
    "base_input"
   ]
  },
  {
   "cell_type": "code",
   "execution_count": null,
   "id": "6aa9999d",
   "metadata": {},
   "outputs": [],
   "source": [
    "base_output"
   ]
  },
  {
   "cell_type": "code",
   "execution_count": null,
   "id": "144426c5",
   "metadata": {},
   "outputs": [],
   "source": [
    "final_output= layers.Dense(128)(base_output)\n",
    "final_output= layers.Activation('relu')(final_output)\n",
    "final_output= layers.Dense(64)(final_output)\n",
    "final_output= layers.Activation('relu')(final_output)\n",
    "final_output= layers.Dense(7,activation='softmax')(final_output)"
   ]
  },
  {
   "cell_type": "code",
   "execution_count": null,
   "id": "cdfd7a16",
   "metadata": {},
   "outputs": [],
   "source": [
    "final_output"
   ]
  },
  {
   "cell_type": "code",
   "execution_count": null,
   "id": "6f135e73",
   "metadata": {},
   "outputs": [],
   "source": [
    "new_model= keras.Model(inputs= base_input,outputs=final_output)"
   ]
  },
  {
   "cell_type": "code",
   "execution_count": null,
   "id": "d572fda2",
   "metadata": {},
   "outputs": [],
   "source": [
    "new_model.summary()"
   ]
  },
  {
   "cell_type": "code",
   "execution_count": null,
   "id": "dee5e8b5",
   "metadata": {},
   "outputs": [],
   "source": [
    "new_model.compile(loss='sparse_categorical_crossentropy',optimizer='adam',metrics=['accuracy'])"
   ]
  },
  {
   "cell_type": "code",
   "execution_count": null,
   "id": "c1622892",
   "metadata": {},
   "outputs": [],
   "source": [
    "new_model.fit(X,y,epochs=15)"
   ]
  },
  {
   "cell_type": "code",
   "execution_count": null,
   "id": "577bda3e",
   "metadata": {},
   "outputs": [],
   "source": [
    "new_model.evaluate(X_test,y_test)"
   ]
  },
  {
   "cell_type": "code",
   "execution_count": null,
   "id": "54c1dd4b",
   "metadata": {},
   "outputs": [],
   "source": []
  }
 ],
 "metadata": {
  "kernelspec": {
   "display_name": "Python 3 (ipykernel)",
   "language": "python",
   "name": "python3"
  },
  "language_info": {
   "codemirror_mode": {
    "name": "ipython",
    "version": 3
   },
   "file_extension": ".py",
   "mimetype": "text/x-python",
   "name": "python",
   "nbconvert_exporter": "python",
   "pygments_lexer": "ipython3",
   "version": "3.8.16"
  }
 },
 "nbformat": 4,
 "nbformat_minor": 5
}
